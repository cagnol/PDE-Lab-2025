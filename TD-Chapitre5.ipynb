{
 "cells": [
  {
   "cell_type": "markdown",
   "id": "cba516dc-b963-4da6-83ae-c0a89c416d28",
   "metadata": {},
   "source": [
    "# TD du 4 février 2025"
   ]
  },
  {
   "cell_type": "markdown",
   "id": "466d902e-e307-4a05-bdbf-55d180b930b6",
   "metadata": {},
   "source": [
    "# Exercice III"
   ]
  },
  {
   "cell_type": "markdown",
   "id": "beb9bd61-65c7-475d-920a-ed0aa5c401f3",
   "metadata": {},
   "source": [
    "On considère le domaine $\\Omega=[0,1]\\times[0,1]$, la fonction $f\\in L^{2}(\\Omega)$, et l'EDP\n",
    "\n",
    "$$(5.2)\\quad\\left\\{\n",
    "    \\begin{array}{ll}\n",
    "       - \\Delta \\displaystyle u=f &\n",
    "       \\textrm{dans}\\ \\Omega,\\\\\n",
    "       u=0&\\textrm{sur}\\ \\partial\\Omega\n",
    "    \\end{array}\\right.\n",
    "$$"
   ]
  },
  {
   "cell_type": "code",
   "execution_count": 1,
   "id": "4054e976-e9f1-4dd8-996b-566341729846",
   "metadata": {},
   "outputs": [],
   "source": [
    "# On aura besoin des bibliothèques suivantes\n",
    "\n",
    "import math\n",
    "import numpy as np\n",
    "import matplotlib.pyplot as plt\n",
    "import sys\n",
    "import time\n",
    "\n",
    "\n",
    "# On aura également les besoins suivants \n",
    "\n",
    "from matplotlib import cm\n",
    "from mpl_toolkits import mplot3d\n",
    "from scipy import integrate"
   ]
  },
  {
   "cell_type": "markdown",
   "id": "a701d2ef-d203-46d9-b4ae-2f852229a168",
   "metadata": {},
   "source": [
    "## Question 1\n",
    "\n",
    "On souhaite écrire la formulation variationnelle. On suit les étapes indiquées dans l'exemple du handout https://cagnol.link/pde4handout\n",
    "\n",
    "La formulation variationnelle obtenue est $$a(u,\\varphi)=l(\\varphi)$$\n",
    "où $a$ est définie de $C^1_0(\\Omega)\\times C^1_0(\\Omega)$ dans ${\\mathbb{R}}$ par\n",
    "$$a(u,v)=\\int_{\\Omega} \\nabla u \\cdot \\nabla v$$\n",
    "et $l$ est définie de $C^1_0(\\Omega)$ dans $\\mathbb {R}$ par $$l(v)=\\int_{\\Omega} gv$$\n",
    " \n"
   ]
  },
  {
   "cell_type": "markdown",
   "id": "f6e1ca55-8fdb-4084-8ff7-338bdc4d9dab",
   "metadata": {},
   "source": [
    "## Question 2\n",
    "\n",
    "Définissons $L_x$ et $L_y$, posons $\\Omega=[0,L_x]\\times[0,L_y]$.\n",
    "\n",
    "Choisissons la finesse de subdivision $J_x$ et $J_y$ de $[0,L_x]$ et $[0,L_y]$ respectivement. \n",
    "\n",
    "Pour $[0,L_x]$, on subdivise en $0,...,J_x+1$ points, il y en a donc $J_x+2$. \n",
    "Les points intérieurs (extrémités exclues) seront ainsi numérotés de 1 à $J_x$.\n",
    "\n",
    "De manière analogue pour $[0,L_y]$, on subdivise en $0,...,J_y+1$ points, il y en a donc $J_y+2$.  Les points intérieurs (extrémités exclues) seront numérotées de 1 à $J_y$.\n",
    "\n",
    "Comme on considère une subdivision uniforme, le pas (c'est-à-dire la longueur entre deux points de la discrétisation) est \n",
    "$$h_x = \\frac{L_x}{J_x+1}$$\n",
    "et de manière analogue\n",
    "$$h_y = \\frac{L_y}{J_y+1}$$\n"
   ]
  },
  {
   "cell_type": "code",
   "execution_count": 2,
   "id": "b889a6bd-5506-4afd-8067-d53d9c8f6759",
   "metadata": {},
   "outputs": [],
   "source": [
    "Lx = 6\n",
    "Ly = 6\n",
    "\n",
    "Jx = 5\n",
    "Jy = 5\n",
    "\n",
    "hx = Lx / (Jx+1)\n",
    "hy = Ly / (Jy+1)"
   ]
  },
  {
   "cell_type": "markdown",
   "id": "86593ceb-0368-4679-bebd-1486164e9a4b",
   "metadata": {},
   "source": [
    "Soit $i\\in\\{1,...,J_y\\}$ et $j\\in\\{1,...,J_x\\}$.\n",
    "\n",
    "Soit $(x,y)\\in\\Omega$, déterminons si $(x,y)$ dans l'hexagone ou non.\n",
    "Si oui, déterminons dans quel triangle. La fonction suivante se charge de cela."
   ]
  },
  {
   "cell_type": "code",
   "execution_count": 4,
   "id": "b4569acb-c6b7-444f-b06c-1d79a5459c99",
   "metadata": {},
   "outputs": [],
   "source": [
    "def QuelTriangle(x,y,j,i):\n",
    "\n",
    "    if x>=j*hx and x<=(j+1)*hx and y>=i*hy and y<=(i+1)*hy: \n",
    "        # Quandrant nord-est\n",
    "        \n",
    "        if (x-j*hx)*hy/hx > (y-i*hy):            \n",
    "            return 'T1'\n",
    "        else: \n",
    "            return 'T2'\n",
    "  \n",
    "\n",
    "    elif x<=j*hx and x>=(j-1)*hx and y>=i*hy and y<=(i+1)*hy: \n",
    "        # Quandrant nord-ouest\n",
    "        \n",
    "        if y-hy*i <= (hy/hx)*(x-(j-1)*hx):\n",
    "            return 'T3'\n",
    "        else:\n",
    "            return 'hors support'\n",
    " \n",
    "\n",
    "    elif x<=j*hx and x>=(j-1)*hx and y<=i*hy and y>=(i-1)*hy: \n",
    "        # Quandrant sud-ouest\n",
    "        \n",
    "        if (x-j*hx)*hy/hx < (y-i*hy): \n",
    "            return 'T4'\n",
    "        else:\n",
    "            return 'T5'\n",
    "        \n",
    "        \n",
    "    elif x>=j*hx and x<=(j+1)*hx and y<=i*hy and y>=(i-1)*hy: \n",
    "        # Quandrant sud-est\n",
    "        \n",
    "        if y>= hy/hx*x + hy*i-hy*(j+1):\n",
    "            return 'T6'\n",
    "        else:\n",
    "            return 'hors support'\n",
    "    \n",
    "    else: \n",
    "        return 'hors support'"
   ]
  },
  {
   "cell_type": "markdown",
   "id": "dcffe01f-85f2-4ffe-bb33-ab4c18804dcc",
   "metadata": {},
   "source": [
    "On détermine l'équation des six plans qui constituent les faces de la pyramide à six cotés, dont l'apex est en $(j h_x,i h_y,1)$. On en déduit l'expression de $\\phi_{j,i}(x,y)$"
   ]
  },
  {
   "cell_type": "code",
   "execution_count": 5,
   "id": "df668979-225d-47db-b0e5-c6e1b4364d3b",
   "metadata": {},
   "outputs": [
    {
     "ename": "SyntaxError",
     "evalue": "invalid syntax (3899112479.py, line 6)",
     "output_type": "error",
     "traceback": [
      "\u001b[0;36m  Cell \u001b[0;32mIn[5], line 6\u001b[0;36m\u001b[0m\n\u001b[0;31m    match QuelTriangle(x,y,j,i) :\u001b[0m\n\u001b[0m          ^\u001b[0m\n\u001b[0;31mSyntaxError\u001b[0m\u001b[0;31m:\u001b[0m invalid syntax\n"
     ]
    }
   ],
   "source": [
    "def phi_ji(x,y,j,i):\n",
    "    \n",
    "    if x<0 or x>Lx or y<0 or y>Ly:\n",
    "        return 0\n",
    "    \n",
    "    match QuelTriangle(x,y,j,i) :\n",
    "        case 'T1':\n",
    "            return -x/hx + j+1\n",
    "        case 'T2':\n",
    "            return -y/hy + i+1\n",
    "        case 'T3':\n",
    "            return x/hx - y/hy + i-j+1\n",
    "        case 'T4':\n",
    "            return x/hx + 1-j\n",
    "        case 'T5':\n",
    "            return y/hy + 1-i\n",
    "        case 'T6':\n",
    "            return -x/hx + y/hy + 1-i+j\n",
    "        case 'hors support':\n",
    "            return 0\n",
    "    "
   ]
  },
  {
   "cell_type": "code",
   "execution_count": 6,
   "id": "a7f76ff6-7235-4aa6-92e9-40cb3e328f75",
   "metadata": {},
   "outputs": [
    {
     "name": "stdout",
     "output_type": "stream",
     "text": [
      "Python version :  3.9.18 | packaged by conda-forge | (main, Dec 23 2023, 16:35:41) \n",
      "[Clang 16.0.6 ]\n"
     ]
    }
   ],
   "source": [
    "print(\"Python version : \",sys.version)"
   ]
  },
  {
   "cell_type": "markdown",
   "id": "9fec1a29-9311-46c6-99ae-a3c96132180c",
   "metadata": {},
   "source": [
    "**Remarque** : si vous avez une erreur de syntaxe avec *match*, c'est par ce que votre version de Python est strictement inférieure à 3.10.  Dans ce cas, vous pouvez ré-écrire ce qui précède avec des if ... elif ... else."
   ]
  },
  {
   "cell_type": "code",
   "execution_count": 7,
   "id": "9ed74cff-d57f-44f8-b44b-ff638fd1136b",
   "metadata": {},
   "outputs": [],
   "source": [
    "def phi_ji(x,y,j,i):\n",
    "    \n",
    "    if x<0 or x>Lx or y<0 or y>Ly:\n",
    "        return 0\n",
    "    \n",
    "    if   QuelTriangle(x,y,j,i) == \"T1\":\n",
    "        return -x/hx + j+1\n",
    "    elif QuelTriangle(x,y,j,i) == 'T2':\n",
    "        return -y/hy + i+1\n",
    "    elif QuelTriangle(x,y,j,i) == 'T3':\n",
    "        return x/hx - y/hy + i-j+1\n",
    "    elif QuelTriangle(x,y,j,i) == 'T4':\n",
    "        return x/hx + 1-j\n",
    "    elif QuelTriangle(x,y,j,i) == 'T5':\n",
    "        return y/hy + 1-i\n",
    "    elif QuelTriangle(x,y,j,i) == 'T6':\n",
    "        return -x/hx + y/hy + 1-i+j\n",
    "    elif QuelTriangle(x,y,j,i) == 'hors support':\n",
    "        return 0"
   ]
  },
  {
   "cell_type": "code",
   "execution_count": null,
   "id": "3bb3532c-43fb-4839-896a-34ba26768235",
   "metadata": {},
   "outputs": [],
   "source": []
  }
 ],
 "metadata": {
  "kernelspec": {
   "display_name": "FEniCS Env",
   "language": "python",
   "name": "fenics-env"
  },
  "language_info": {
   "codemirror_mode": {
    "name": "ipython",
    "version": 3
   },
   "file_extension": ".py",
   "mimetype": "text/x-python",
   "name": "python",
   "nbconvert_exporter": "python",
   "pygments_lexer": "ipython3",
   "version": "3.9.18"
  }
 },
 "nbformat": 4,
 "nbformat_minor": 5
}
