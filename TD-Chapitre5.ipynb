{
 "cells": [
  {
   "cell_type": "markdown",
   "id": "cba516dc-b963-4da6-83ae-c0a89c416d28",
   "metadata": {},
   "source": [
    "# TD du 4 février 2025 "
   ]
  },
  {
   "cell_type": "code",
   "execution_count": null,
   "id": "1929488d-0bdf-499b-a569-8ac9d9b437f6",
   "metadata": {},
   "outputs": [],
   "source": []
  }
 ],
 "metadata": {
  "kernelspec": {
   "display_name": "FEniCS Env",
   "language": "python",
   "name": "fenics-env"
  },
  "language_info": {
   "codemirror_mode": {
    "name": "ipython",
    "version": 3
   },
   "file_extension": ".py",
   "mimetype": "text/x-python",
   "name": "python",
   "nbconvert_exporter": "python",
   "pygments_lexer": "ipython3",
   "version": "3.9.18"
  }
 },
 "nbformat": 4,
 "nbformat_minor": 5
}
