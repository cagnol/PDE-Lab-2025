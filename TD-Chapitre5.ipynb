{
 "cells": [
  {
   "cell_type": "markdown",
   "id": "cba516dc-b963-4da6-83ae-c0a89c416d28",
   "metadata": {},
   "source": [
    "# TD du 4 février 2025"
   ]
  },
  {
   "cell_type": "markdown",
   "id": "466d902e-e307-4a05-bdbf-55d180b930b6",
   "metadata": {},
   "source": [
    "# Exercice III"
   ]
  },
  {
   "cell_type": "code",
   "execution_count": null,
   "id": "c9615514-b87f-4cb7-b566-277bbedf5974",
   "metadata": {},
   "outputs": [],
   "source": []
  }
 ],
 "metadata": {
  "kernelspec": {
   "display_name": "FEniCS Env",
   "language": "python",
   "name": "fenics-env"
  },
  "language_info": {
   "codemirror_mode": {
    "name": "ipython",
    "version": 3
   },
   "file_extension": ".py",
   "mimetype": "text/x-python",
   "name": "python",
   "nbconvert_exporter": "python",
   "pygments_lexer": "ipython3",
   "version": "3.9.18"
  }
 },
 "nbformat": 4,
 "nbformat_minor": 5
}
