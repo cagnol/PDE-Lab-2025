{
 "cells": [
  {
   "cell_type": "markdown",
   "id": "cba516dc-b963-4da6-83ae-c0a89c416d28",
   "metadata": {},
   "source": [
    "# TD du 4 février 2025"
   ]
  },
  {
   "cell_type": "markdown",
   "id": "466d902e-e307-4a05-bdbf-55d180b930b6",
   "metadata": {},
   "source": [
    "# Exercice III"
   ]
  },
  {
   "cell_type": "markdown",
   "id": "beb9bd61-65c7-475d-920a-ed0aa5c401f3",
   "metadata": {},
   "source": [
    "On considère le domaine $\\Omega=[0,1]\\times[0,1]$, la fonction $f\\in L^{2}(\\Omega)$, et l'EDP\n",
    "\n",
    "$$(5.2)\\quad\\left\\{\n",
    "    \\begin{array}{ll}\n",
    "       - \\Delta \\displaystyle u=f &\n",
    "       \\textrm{dans}\\ \\Omega,\\\\\n",
    "       u=0&\\textrm{sur}\\ \\partial\\Omega\n",
    "    \\end{array}\\right.\n",
    "$$"
   ]
  },
  {
   "cell_type": "code",
   "execution_count": 1,
   "id": "4054e976-e9f1-4dd8-996b-566341729846",
   "metadata": {},
   "outputs": [],
   "source": [
    "# On aura besoin des bibliothèques suivantes\n",
    "\n",
    "import math\n",
    "import numpy as np\n",
    "import matplotlib.pyplot as plt\n",
    "import sys\n",
    "import time\n",
    "\n",
    "\n",
    "# On aura également les besoins suivants \n",
    "\n",
    "from matplotlib import cm\n",
    "from mpl_toolkits import mplot3d\n",
    "from scipy import integrate"
   ]
  },
  {
   "cell_type": "markdown",
   "id": "a701d2ef-d203-46d9-b4ae-2f852229a168",
   "metadata": {},
   "source": []
  }
 ],
 "metadata": {
  "kernelspec": {
   "display_name": "FEniCS Env",
   "language": "python",
   "name": "fenics-env"
  },
  "language_info": {
   "codemirror_mode": {
    "name": "ipython",
    "version": 3
   },
   "file_extension": ".py",
   "mimetype": "text/x-python",
   "name": "python",
   "nbconvert_exporter": "python",
   "pygments_lexer": "ipython3",
   "version": "3.9.18"
  }
 },
 "nbformat": 4,
 "nbformat_minor": 5
}
