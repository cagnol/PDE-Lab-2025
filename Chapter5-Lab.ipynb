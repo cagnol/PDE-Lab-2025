{
 "cells": [
  {
   "cell_type": "markdown",
   "id": "8a330a85-8fd7-4861-a095-9373f196cdd0",
   "metadata": {},
   "source": [
    "Chapter 5 - Lab on The Finite Element Method\n",
    "============================================"
   ]
  },
  {
   "cell_type": "markdown",
   "id": "b8c14336-ae39-4fa5-a5e2-8d33ca6fdf18",
   "metadata": {},
   "source": [
    "# Exercise I"
   ]
  },
  {
   "cell_type": "markdown",
   "id": "3fa5cf2e-10c3-4b3c-8916-e29fcdd37b89",
   "metadata": {},
   "source": [
    "Let $f\\in L^{2}(0,1)$.\n",
    "\n",
    "Consider\n",
    "\n",
    "$$ (5.1)\\quad\\left\\{\n",
    "    \\begin{array}{ll}\n",
    "       - \\displaystyle u^{\\prime\\prime}=f \\quad \\textrm{in}\\ ]0,1[,\\\\\n",
    "       u(0)=\\alpha\\quad\\textrm{and}\\quad u(1)=\\beta. \n",
    "    \\end{array}\\right.$$\n",
    "                                         \n",
    "with $\\alpha,\\beta\\in\\mathbb{R}$."
   ]
  },
  {
   "cell_type": "markdown",
   "id": "55ee426c-2f9f-4a77-8e1d-2194e3f07c2f",
   "metadata": {},
   "source": [
    "In this notebook, we will need several librairies:"
   ]
  },
  {
   "cell_type": "code",
   "execution_count": 1,
   "id": "d8440134-1b23-4401-837c-b6f5262976a1",
   "metadata": {},
   "outputs": [],
   "source": [
    "# Two standard librairies for mathematical functions\n",
    "\n",
    "import math\n",
    "import numpy as np\n",
    "\n",
    "\n",
    "# A standard library for plotting\n",
    "\n",
    "import matplotlib.pyplot as plt\n",
    "\n",
    "\n",
    "# Functions for numerical quadrature\n",
    "# (numerical approxmation of an integral)\n",
    "\n",
    "from scipy.integrate import quad\n",
    "from scipy import special"
   ]
  },
  {
   "cell_type": "markdown",
   "id": "478e6ffd-245b-48f2-a615-1c52d96bc449",
   "metadata": {},
   "source": [
    "## Question 1\n",
    "\n",
    "To determine a PDE with homogeneous Dirichlet conditions that is equivalent to (5.1), we use the lifting technique.\n",
    "\n",
    "It is sufficient to chose $u_{0}$ whose value at 0 is $\\alpha$ and whose value at $\\beta$ is $1$. For instance, let \n",
    "$u_0(x)=\\alpha (1-x)+\\beta x$ an consider $\\tilde{u}=u-u_0$. \n",
    "Function $\\tilde{u}$ is a solution to\n",
    "\n",
    "$$\\left \\{\n",
    "    \\begin{array}{l}\n",
    "      - \\displaystyle \\tilde{u}''= g\\quad\\textrm{in} ]0,1[,\\\\\n",
    "      \\tilde{u}(0)=0\\quad\\textrm{and}\\quad \\tilde{u}(1)=0. \n",
    "    \\end{array}\n",
    "   \\right. $$\n",
    "\n",
    "where $g(x) = f(x)+u_{0}''(x)$.\n",
    "\n",
    "This choice of $u_0$ leads to $u_0''=0$, therefore $g=f$ (subseqently there is no need to define another function)."
   ]
  },
  {
   "cell_type": "code",
   "execution_count": 2,
   "id": "ca8260da-541b-4ede-ae39-ece79c0278f8",
   "metadata": {},
   "outputs": [],
   "source": [
    "def u0(x):\n",
    "    return alpha*(1-x) + beta*x\n",
    "\n",
    "# We will need to define alpha and beta before using this function."
   ]
  },
  {
   "cell_type": "markdown",
   "id": "09624cc7-2e0b-4bef-9c0c-128520959778",
   "metadata": {},
   "source": [
    "## Question 2\n",
    "\n",
    "We want to write the variational formulation.\n",
    "We follow the steps indicated in the handout example https://cagnol.link/pde4handout\n",
    "\n",
    "To simplify the notations, in this question we omit the tilde and write $u$ instead of $\\tilde{u}$.\n",
    "\n",
    "We obtain the variational formulation $$a(u,\\varphi)=l(\\varphi)$$\n",
    "where $a$ is defined from $C^1_0([0,1])\\times C^1_0([0,1])$ to ${\\mathbb{R}}$ by\n",
    "$$a(u,v)=\\int_0^1 u'v'$$\n",
    "and $l$ is defined from $C^1_0([0,1])$ to $\\mathbb {R}$ by $$l(v)=\\int_0^1 gv$$"
   ]
  },
  {
   "cell_type": "markdown",
   "id": "ee6556c6-31a4-4c18-b170-8ab3b26608c8",
   "metadata": {},
   "source": [
    "## Question 3\n",
    "\n",
    "Let $J\\in\\mathbb{N}^*$ and $$h=\\frac{1}{J+1}$$ "
   ]
  },
  {
   "cell_type": "code",
   "execution_count": 4,
   "id": "20f4c086-9715-491b-ba80-7595c063233f",
   "metadata": {},
   "outputs": [],
   "source": [
    "J=5       # Number of nodes - ends excluded\n",
    "h=1/(J+1) # Discretizaton step"
   ]
  },
  {
   "cell_type": "markdown",
   "id": "2c10ef36-cd56-433d-acfe-93eaaf8fc0f3",
   "metadata": {},
   "source": [
    "Consider a subdivision $(x_j)_{j\\in\\{0,...,J+1\\}}$ of $[0,1]$ where $x_j=jh$.\n",
    "Let $P_1$ be the set of polynomials of degree lower than 1 and\n",
    "\n",
    "\n",
    "$$H_{0,h}=  \\{v \\in C^0([0,1])\\ |\\ \\forall j\\in\\{0,...,J\\},\\;v_{|[x_j,x_{j+1}]}\\in P_1\\ \\textrm{and}\\ v(0)=v(1)=0\\}$$\n",
    "\n",
    "We note $N_h=\\operatorname{dim} H_{0,h}$.\n",
    "We have $N_h=J$.\n",
    "\n",
    "Consider the basis $(\\phi_1,...,\\phi_{N_h})$ of $H_{0,h}$ composed of hat functions\n",
    "\n",
    "$$\\phi_j(x)=\\left\\{\\begin{array}{lll}\n",
    "    0 & \\textrm{if} & x\\in[0,(j-1)h[\\\\\n",
    "    \\frac{1}{h}x-j+1 & \\textrm{if} & x\\in [(j-1)h,jh]\\\\\n",
    "    -\\frac{1}{h}x+j+1 & \\textrm{if} & x\\in ]jh,(j+1)h]\\\\\n",
    "    0 & \\textrm{if} & x\\in](j-1)h,1]\n",
    "    \\end{array}\n",
    "    \\right.$$"
   ]
  },
  {
   "cell_type": "code",
   "execution_count": 5,
   "id": "731037c6-6804-4289-9bb1-b9e9b845eb4b",
   "metadata": {},
   "outputs": [],
   "source": [
    "# We define the hat functions\n",
    "\n",
    "def phi(x,j):\n",
    "    if x<(j-1)*h:\n",
    "        return 0\n",
    "    elif x<j*h:\n",
    "        return 1+(x-j*h)/h\n",
    "    elif x<(j+1)*h:\n",
    "        return 1-(x-j*h)/h\n",
    "    else: # x>(j+1)*h\n",
    "        return 0"
   ]
  },
  {
   "cell_type": "code",
   "execution_count": 6,
   "id": "76ee4926-de2c-4ce7-bb54-ea5a996cdee1",
   "metadata": {},
   "outputs": [
    {
     "data": {
      "image/png": "[encoded data removed]",
      "text/plain": [
       "<Figure size 640x480 with 1 Axes>"
      ]
     },
     "metadata": {},
     "output_type": "display_data"
    }
   ],
   "source": [
    "# We plot with several shades of gray\n",
    "\n",
    "# Number of points to represent the function\n",
    "Nx = 200 \n",
    "\n",
    "x = np.arange(Nx,dtype=float)\n",
    "y = np.arange(Nx,dtype=float)\n",
    "\n",
    "for j in range(1,J+1): # j is in between 1 and J. See the definition of range() in case of doubt!\n",
    "\n",
    "    s = 0\n",
    "    \n",
    "    for t in np.linspace(0.0,1.0,Nx):\n",
    "        x[s] = t\n",
    "        y[s] = phi(t,j)\n",
    "        s = s+1\n",
    "    \n",
    "    color = 1-j/(J+1)\n",
    "    \n",
    "    plt.plot(x,y,color=(color,color,color))\n",
    "\n",
    "plt.show()"
   ]
  },
  {
   "cell_type": "markdown",
   "id": "3bf298b6-3c8b-4fde-9d31-9f15e4735592",
   "metadata": {},
   "source": [
    "# Exercise V (sequel to Exercice I)"
   ]
  },
  {
   "cell_type": "markdown",
   "id": "1061fd9f-5521-4651-b8a3-f2582f1a94bf",
   "metadata": {},
   "source": [
    "## Question 1\n",
    "$$\\forall i\\in[1,J],\\ a(u_h,\\phi_i)=l(\\phi_i)$$ \n",
    "iff $$\\forall i\\in[1,J],\\ a\\left(\\sum_{j=1}^Ju_h^j\\phi_j,\\phi_i\\right)=l(\\phi_i)$$\n",
    "iff $$\\forall i\\in[1,J],\\ \\sum_{j=1}^Ju_h^ja(\\phi_j,\\phi_i)=l(\\phi_i)$$\n",
    "iff $$A_hU_h=F_h$$\n",
    "Let us note\n",
    "- $A_h$ the $J\\times J$ matrix whose coefficients are $a(\\phi_j,\\phi_i)$ at line $i$ and column $j$\n",
    "- $U_h\\in\\mathbb{R}^J$ the vector whose components are $u_h^1,\\ldots,u_h^J$\n",
    "- $F_h\\in\\mathbb{R}^J$ the vector whose $i$-th component is $l(\\phi_i)$"
   ]
  },
  {
   "cell_type": "markdown",
   "id": "40581cb2-9917-4663-ba28-d282aa6161d3",
   "metadata": {},
   "source": [
    "## Question 2\n",
    "To compute $A_h$, we can: \n",
    "- Compute $a(\\phi_i,\\phi_j)$ by quadrature\n",
    "- Compute $a(\\phi_i,\\phi_j)$ algebraically.\n",
    "\n",
    "Thus, there are two methods.\n",
    "\n",
    "Here, we shall computer $a(\\varphi_i,\\varphi_j)$ by quadrature.\n",
    "In exercise VII, we will compute it algebraically (or use the algebraic computation carried out in the lecture)."
   ]
  },
  {
   "cell_type": "code",
   "execution_count": 8,
   "id": "9c9d6040-3629-45d1-b26f-d84993d5c1ad",
   "metadata": {},
   "outputs": [],
   "source": [
    "# We need the derivative of the hat functions\n",
    "\n",
    "def phi_prime(x,j):\n",
    "    if x<(j-1)*h:\n",
    "        return 0\n",
    "    elif x<j*h:\n",
    "        return 1/h\n",
    "    elif x<(j+1)*h:\n",
    "        return -1/h\n",
    "    else: # x>(j+1)*h\n",
    "        return 0"
   ]
  },
  {
   "cell_type": "code",
   "execution_count": 9,
   "id": "5c27364b-b986-40a9-a5cf-ac94886cf1ee",
   "metadata": {},
   "outputs": [],
   "source": [
    "def phi_prime_phi_prime(x,i,j):\n",
    "    # Returns phi_i'(x)*phi_j'(x)\n",
    "    return phi_prime(x,i)*phi_prime(x,j)"
   ]
  },
  {
   "cell_type": "code",
   "execution_count": 11,
   "id": "d2affe05-a116-4ca7-8184-34419b5571f3",
   "metadata": {},
   "outputs": [],
   "source": [
    "Ah = np.zeros((J, J), float)\n",
    "\n",
    "for i in range(J):\n",
    "    for j in range(J):\n",
    "        integral, erreur = quad(phi_prime_phi_prime,0,1,args=(i+1,j+1))\n",
    "        Ah[i,j] = integral\n",
    "\n",
    "# Beaware the components of Ah are numbered 0 to J-1 while the basis elements are numbered 1 to J."
   ]
  },
  {
   "cell_type": "code",
   "execution_count": 12,
   "id": "b4080838-59ba-4c12-b159-967ea12123af",
   "metadata": {},
   "outputs": [
    {
     "name": "stdout",
     "output_type": "stream",
     "text": [
      "[[12. -6.  0.  0.  0.]\n",
      " [-6. 12. -6.  0.  0.]\n",
      " [ 0. -6. 12. -6.  0.]\n",
      " [ 0.  0. -6. 12. -6.]\n",
      " [ 0.  0.  0. -6. 12.]]\n"
     ]
    }
   ],
   "source": [
    "print(Ah)"
   ]
  },
  {
   "cell_type": "markdown",
   "id": "824e6f1a-6dae-43a0-82c0-6c9f149767a7",
   "metadata": {},
   "source": [
    "# Question 3"
   ]
  },
  {
   "cell_type": "markdown",
   "id": "2419d6db-a853-40f3-9c85-e0d16efcea06",
   "metadata": {},
   "source": [
    "Let $f(x)=12x^2$ and $\\alpha=1$, $\\beta=2$."
   ]
  },
  {
   "cell_type": "code",
   "execution_count": 13,
   "id": "a956d431-43bd-4a73-92e4-95e0cf8559b0",
   "metadata": {},
   "outputs": [],
   "source": [
    "alpha = 1\n",
    "beta = 2\n",
    "\n",
    "def f(x):\n",
    "    return 12*x*x"
   ]
  },
  {
   "cell_type": "markdown",
   "id": "3185449d-9456-4e24-99c4-9ae45c23ed95",
   "metadata": {},
   "source": [
    "Let us compute $F_h$."
   ]
  },
  {
   "cell_type": "code",
   "execution_count": 14,
   "id": "1482f5d3-ee2d-48df-b791-233c46810a99",
   "metadata": {},
   "outputs": [],
   "source": [
    "def f_times_phi(x,j):\n",
    "    return f(x)*phi(x,j)"
   ]
  },
  {
   "cell_type": "code",
   "execution_count": 15,
   "id": "dd8270df-c356-4531-926a-897fb5fca9b3",
   "metadata": {},
   "outputs": [],
   "source": [
    "# We now build Fh\n",
    "\n",
    "Fh = np.zeros((J), float)\n",
    "\n",
    "for i in range(J):\n",
    "    j = i+1\n",
    "    integral, erreur = quad(f_times_phi, 0, 1, args=(j))\n",
    "    Fh[i] = integral"
   ]
  },
  {
   "cell_type": "code",
   "execution_count": 16,
   "id": "61e498c5-4620-475c-b412-ee6f3ea474a9",
   "metadata": {},
   "outputs": [
    {
     "name": "stdout",
     "output_type": "stream",
     "text": [
      "[0.06481481 0.23148148 0.50925926 0.89814815 1.39814815]\n"
     ]
    }
   ],
   "source": [
    "print(Fh)"
   ]
  },
  {
   "cell_type": "markdown",
   "id": "8555194a-1b8f-49b8-9005-c81b91bd8182",
   "metadata": {},
   "source": [
    "# Question 4"
   ]
  },
  {
   "cell_type": "markdown",
   "id": "bdf4097f-e3c8-4999-98ca-4995595fe6e9",
   "metadata": {},
   "source": [
    "Let us solve $A_hU_h=F_h$ for $U_h$."
   ]
  },
  {
   "cell_type": "code",
   "execution_count": 17,
   "id": "4840f402-cced-483f-a3d3-8a30ac928e59",
   "metadata": {},
   "outputs": [],
   "source": [
    "Uh = np.linalg.solve(Ah,Fh)"
   ]
  },
  {
   "cell_type": "code",
   "execution_count": 18,
   "id": "6541f8cc-5564-459e-a0ae-bee693d8c1f0",
   "metadata": {},
   "outputs": [
    {
     "name": "stdout",
     "output_type": "stream",
     "text": [
      "[0.16589506 0.32098765 0.4375     0.4691358  0.35108025]\n"
     ]
    }
   ],
   "source": [
    "print(Uh)"
   ]
  },
  {
   "cell_type": "markdown",
   "id": "1989afe0-82e8-4e12-ba04-f5adcbe24dca",
   "metadata": {},
   "source": [
    "## Question 5"
   ]
  },
  {
   "cell_type": "code",
   "execution_count": 19,
   "id": "df77fabb-b22d-4b65-bb3d-3cd4b9001076",
   "metadata": {},
   "outputs": [],
   "source": [
    "def u_lifted(x): # u_tilde\n",
    "    \n",
    "    val = 0\n",
    "    \n",
    "    for j in range(1,J+1):\n",
    "        val = val + Uh[j-1]*phi(x,j)\n",
    "        \n",
    "    return(val)"
   ]
  },
  {
   "cell_type": "code",
   "execution_count": 20,
   "id": "5d5c3237-4a62-457b-b4a5-a724f32b03b8",
   "metadata": {},
   "outputs": [],
   "source": [
    "def u_unlifted(x):\n",
    "    \n",
    "    return u_lifted(x) + u0(x) "
   ]
  },
  {
   "cell_type": "code",
   "execution_count": 21,
   "id": "0d7aff63-f971-446f-ba59-0f4a79d25c98",
   "metadata": {},
   "outputs": [
    {
     "data": {
      "image/png": "[encoded data removed]",
      "text/plain": [
       "<Figure size 640x480 with 1 Axes>"
      ]
     },
     "metadata": {},
     "output_type": "display_data"
    }
   ],
   "source": [
    "# Let's plot\n",
    "\n",
    "# Number of points used to represent the function\n",
    "Nx = 200 \n",
    "\n",
    "x = np.arange(Nx,dtype=float)\n",
    "y = np.arange(Nx,dtype=float)\n",
    "\n",
    "s = 0\n",
    "\n",
    "for t in np.linspace(0.0,1.0,Nx):\n",
    "    x[s] = t\n",
    "    y[s] = u_unlifted(t)\n",
    "    s = s+1\n",
    "        \n",
    "plt.title(\"u\")\n",
    "plt.plot(x,y,'r')\n",
    "plt.show()"
   ]
  },
  {
   "cell_type": "markdown",
   "id": "b42df6ff-191a-4f06-b3a4-816047660a60",
   "metadata": {},
   "source": [
    "## Question 6\n",
    "We can computed the solution of the equation by hand by double integrating $f$ and fixing the two constants that appear from $u(0)$ and $u(1)$. We then find $$u(x)=-x^4+2x+1$$\n",
    "Let us plot this function."
   ]
  },
  {
   "cell_type": "code",
   "execution_count": 22,
   "id": "f9e723e6-97c9-4f62-9aca-6244c3ad2415",
   "metadata": {},
   "outputs": [
    {
     "data": {
      "image/png": "[encoded data removed]",
      "text/plain": [
       "<Figure size 640x480 with 1 Axes>"
      ]
     },
     "metadata": {},
     "output_type": "display_data"
    }
   ],
   "source": [
    "z = np.arange(Nx,dtype=float)\n",
    "\n",
    "s = 0\n",
    "\n",
    "for t in np.linspace(0.0,1.0,Nx):\n",
    "    z[s] = -t**4+2*t+1 \n",
    "    s = s+1\n",
    "    \n",
    "plt.title(\"Exact solution of (5.1)\")\n",
    "plt.plot(x,z,'b')\n",
    "plt.show()"
   ]
  },
  {
   "cell_type": "code",
   "execution_count": 23,
   "id": "561eb4e6-82a3-4c23-87e6-a93cb3ab55bf",
   "metadata": {},
   "outputs": [
    {
     "data": {
      "text/plain": [
       "[<matplotlib.lines.Line2D at 0x13cf5a5b0>]"
      ]
     },
     "execution_count": 23,
     "metadata": {},
     "output_type": "execute_result"
    },
    {
     "data": {
      "image/png": "[encoded data removed]",
      "text/plain": [
       "<Figure size 640x480 with 1 Axes>"
      ]
     },
     "metadata": {},
     "output_type": "display_data"
    }
   ],
   "source": [
    "plt.plot(x,y,'r')\n",
    "plt.plot(x,z,'b')"
   ]
  },
  {
   "cell_type": "code",
   "execution_count": 24,
   "id": "fb8502be-99ed-4487-b6b4-211b8c59e1f0",
   "metadata": {},
   "outputs": [
    {
     "data": {
      "text/plain": [
       "0.03509102582131929"
      ]
     },
     "execution_count": 24,
     "metadata": {},
     "output_type": "execute_result"
    }
   ],
   "source": [
    "max(abs(y-z))"
   ]
  },
  {
   "cell_type": "code",
   "execution_count": null,
   "id": "c2d59251-49a4-49ef-962f-1d43524ecef6",
   "metadata": {},
   "outputs": [],
   "source": []
  }
 ],
 "metadata": {
  "kernelspec": {
   "display_name": "FEniCS Env",
   "language": "python",
   "name": "fenics-env"
  },
  "language_info": {
   "codemirror_mode": {
    "name": "ipython",
    "version": 3
   },
   "file_extension": ".py",
   "mimetype": "text/x-python",
   "name": "python",
   "nbconvert_exporter": "python",
   "pygments_lexer": "ipython3",
   "version": "3.9.18"
  }
 },
 "nbformat": 4,
 "nbformat_minor": 5
}
