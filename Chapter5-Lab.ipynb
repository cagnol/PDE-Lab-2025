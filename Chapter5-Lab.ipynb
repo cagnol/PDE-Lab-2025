{
 "cells": [
  {
   "cell_type": "markdown",
   "id": "8a330a85-8fd7-4861-a095-9373f196cdd0",
   "metadata": {},
   "source": [
    "Chapter 5 - Lab on The Finite Element Method\n",
    "============================================"
   ]
  },
  {
   "cell_type": "markdown",
   "id": "b8c14336-ae39-4fa5-a5e2-8d33ca6fdf18",
   "metadata": {},
   "source": [
    "# Exercise I"
   ]
  },
  {
   "cell_type": "markdown",
   "id": "3fa5cf2e-10c3-4b3c-8916-e29fcdd37b89",
   "metadata": {},
   "source": [
    "Let $f\\in L^{2}(0,1)$.\n",
    "\n",
    "Consider\n",
    "\n",
    "$$ (5.1)\\quad\\left\\{\n",
    "    \\begin{array}{ll}\n",
    "       - \\displaystyle u^{\\prime\\prime}=f \\quad \\textrm{in}\\ ]0,1[,\\\\\n",
    "       u(0)=\\alpha\\quad\\textrm{and}\\quad u(1)=\\beta. \n",
    "    \\end{array}\\right.$$\n",
    "                                         \n",
    "with $\\alpha,\\beta\\in\\mathbb{R}$."
   ]
  },
  {
   "cell_type": "markdown",
   "id": "55ee426c-2f9f-4a77-8e1d-2194e3f07c2f",
   "metadata": {},
   "source": [
    "In this notebook, we will need several librairies:"
   ]
  },
  {
   "cell_type": "code",
   "execution_count": 1,
   "id": "d8440134-1b23-4401-837c-b6f5262976a1",
   "metadata": {},
   "outputs": [],
   "source": [
    "# Two standard librairies for mathematical functions\n",
    "\n",
    "import math\n",
    "import numpy as np\n",
    "\n",
    "\n",
    "# A standard library for plotting\n",
    "\n",
    "import matplotlib.pyplot as plt\n",
    "\n",
    "\n",
    "# Functions for numerical quadrature\n",
    "# (numerical approxmation of an integral)\n",
    "\n",
    "from scipy.integrate import quad\n",
    "from scipy import special"
   ]
  },
  {
   "cell_type": "markdown",
   "id": "478e6ffd-245b-48f2-a615-1c52d96bc449",
   "metadata": {},
   "source": [
    "## Question 1\n",
    "\n",
    "To determine a PDE with homogeneous Dirichlet conditions that is equivalent to (5.1), we use the lifting technique.\n",
    "\n",
    "It is sufficient to chose $u_{0}$ whose value at 0 is $\\alpha$ and whose value at $\\beta$ is $1$. For instance, let \n",
    "$u_0(x)=\\alpha (1-x)+\\beta x$ an consider $\\tilde{u}=u-u_0$. \n",
    "Function $\\tilde{u}$ is a solution to\n",
    "\n",
    "$$\\left \\{\n",
    "    \\begin{array}{l}\n",
    "      - \\displaystyle \\tilde{u}''= g\\quad\\textrm{in} ]0,1[,\\\\\n",
    "      \\tilde{u}(0)=0\\quad\\textrm{and}\\quad \\tilde{u}(1)=0. \n",
    "    \\end{array}\n",
    "   \\right. $$\n",
    "\n",
    "where $g(x) = f(x)+u_{0}''(x)$.\n",
    "\n",
    "This choice of $u_0$ leads to $u_0''=0$, therefore $g=f$ (subseqently there is no need to define another function)."
   ]
  },
  {
   "cell_type": "code",
   "execution_count": 2,
   "id": "ca8260da-541b-4ede-ae39-ece79c0278f8",
   "metadata": {},
   "outputs": [],
   "source": [
    "def u0(x):\n",
    "    return alpha*(1-x) + beta*x\n",
    "\n",
    "# We will need to define alpha and beta before using this function."
   ]
  },
  {
   "cell_type": "code",
   "execution_count": null,
   "id": "912c9548-1257-4af5-919d-efeb1ac7e1a2",
   "metadata": {},
   "outputs": [],
   "source": []
  }
 ],
 "metadata": {
  "kernelspec": {
   "display_name": "FEniCS Env",
   "language": "python",
   "name": "fenics-env"
  },
  "language_info": {
   "codemirror_mode": {
    "name": "ipython",
    "version": 3
   },
   "file_extension": ".py",
   "mimetype": "text/x-python",
   "name": "python",
   "nbconvert_exporter": "python",
   "pygments_lexer": "ipython3",
   "version": "3.9.18"
  }
 },
 "nbformat": 4,
 "nbformat_minor": 5
}
