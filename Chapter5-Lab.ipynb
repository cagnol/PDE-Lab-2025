{
 "cells": [
  {
   "cell_type": "markdown",
   "id": "8a330a85-8fd7-4861-a095-9373f196cdd0",
   "metadata": {},
   "source": [
    "Chapter 5 - The Finite Element Method\n",
    "====================================="
   ]
  },
  {
   "cell_type": "code",
   "execution_count": null,
   "id": "9b1a8fc1-c223-4371-9791-eb2685c7a913",
   "metadata": {},
   "outputs": [],
   "source": []
  }
 ],
 "metadata": {
  "kernelspec": {
   "display_name": "FEniCS Env",
   "language": "python",
   "name": "fenics-env"
  },
  "language_info": {
   "codemirror_mode": {
    "name": "ipython",
    "version": 3
   },
   "file_extension": ".py",
   "mimetype": "text/x-python",
   "name": "python",
   "nbconvert_exporter": "python",
   "pygments_lexer": "ipython3",
   "version": "3.9.18"
  }
 },
 "nbformat": 4,
 "nbformat_minor": 5
}
