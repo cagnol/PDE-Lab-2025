{
 "cells": [
  {
   "cell_type": "markdown",
   "id": "8a330a85-8fd7-4861-a095-9373f196cdd0",
   "metadata": {},
   "source": [
    "Chapter 5 - Lab on The Finite Element Method\n",
    "============================================"
   ]
  },
  {
   "cell_type": "markdown",
   "id": "b8c14336-ae39-4fa5-a5e2-8d33ca6fdf18",
   "metadata": {},
   "source": [
    "# Exercise I"
   ]
  },
  {
   "cell_type": "markdown",
   "id": "3fa5cf2e-10c3-4b3c-8916-e29fcdd37b89",
   "metadata": {},
   "source": [
    "Let $f\\in L^{2}(0,1)$.\n",
    "\n",
    "Consider\n",
    "\n",
    "$$ (5.1)\\quad\\left\\{\n",
    "    \\begin{array}{ll}\n",
    "       - \\displaystyle u^{\\prime\\prime}=f \\quad \\textrm{in}\\ ]0,1[,\\\\\n",
    "       u(0)=\\alpha\\quad\\textrm{and}\\quad u(1)=\\beta. \n",
    "    \\end{array}\\right.$$\n",
    "                                         \n",
    "with $\\alpha,\\beta\\in\\mathbb{R}$."
   ]
  },
  {
   "cell_type": "markdown",
   "id": "55ee426c-2f9f-4a77-8e1d-2194e3f07c2f",
   "metadata": {},
   "source": [
    "In this notebook, we will need several librairies:"
   ]
  },
  {
   "cell_type": "code",
   "execution_count": 1,
   "id": "d8440134-1b23-4401-837c-b6f5262976a1",
   "metadata": {},
   "outputs": [],
   "source": [
    "# Two standard librairies for mathematical functions\n",
    "\n",
    "import math\n",
    "import numpy as np\n",
    "\n",
    "\n",
    "# A standard library for plotting\n",
    "\n",
    "import matplotlib.pyplot as plt\n",
    "\n",
    "\n",
    "# Functions for numerical quadrature\n",
    "# (numerical approxmation of an integral)\n",
    "\n",
    "from scipy.integrate import quad\n",
    "from scipy import special"
   ]
  },
  {
   "cell_type": "markdown",
   "id": "478e6ffd-245b-48f2-a615-1c52d96bc449",
   "metadata": {},
   "source": [
    "## Question 1\n",
    "\n",
    "To determine a PDE with homogeneous Dirichlet conditions that is equivalent to (5.1), we use the lifting technique.\n",
    "\n",
    "It is sufficient to chose $u_{0}$ whose value at 0 is $\\alpha$ and whose value at $\\beta$ is $1$. For instance, let \n",
    "$u_0(x)=\\alpha (1-x)+\\beta x$ an consider $\\tilde{u}=u-u_0$. \n",
    "Function $\\tilde{u}$ is a solution to\n",
    "\n",
    "$$\\left \\{\n",
    "    \\begin{array}{l}\n",
    "      - \\displaystyle \\tilde{u}''= g\\quad\\textrm{in} ]0,1[,\\\\\n",
    "      \\tilde{u}(0)=0\\quad\\textrm{and}\\quad \\tilde{u}(1)=0. \n",
    "    \\end{array}\n",
    "   \\right. $$\n",
    "\n",
    "where $g(x) = f(x)+u_{0}''(x)$.\n",
    "\n",
    "This choice of $u_0$ leads to $u_0''=0$, therefore $g=f$ (subseqently there is no need to define another function)."
   ]
  },
  {
   "cell_type": "code",
   "execution_count": 2,
   "id": "ca8260da-541b-4ede-ae39-ece79c0278f8",
   "metadata": {},
   "outputs": [],
   "source": [
    "def u0(x):\n",
    "    return alpha*(1-x) + beta*x\n",
    "\n",
    "# We will need to define alpha and beta before using this function."
   ]
  },
  {
   "cell_type": "markdown",
   "id": "09624cc7-2e0b-4bef-9c0c-128520959778",
   "metadata": {},
   "source": [
    "## Question 2\n",
    "\n",
    "We want to write the variational formulation.\n",
    "We follow the steps indicated in the handout example https://cagnol.link/pde4handout\n",
    "\n",
    "To simplify the notations, in this question we omit the tilde and write $u$ instead of $\\tilde{u}$.\n",
    "\n",
    "We obtain the variational formulation $$a(u,\\varphi)=l(\\varphi)$$\n",
    "where $a$ is defined from $C^1_0([0,1])\\times C^1_0([0,1])$ to ${\\mathbb{R}}$ by\n",
    "$$a(u,v)=\\int_0^1 u'v'$$\n",
    "and $l$ is defined from $C^1_0([0,1])$ to $\\mathbb {R}$ by $$l(v)=\\int_0^1 gv$$"
   ]
  },
  {
   "cell_type": "markdown",
   "id": "ee6556c6-31a4-4c18-b170-8ab3b26608c8",
   "metadata": {},
   "source": [
    "## Question 3\n",
    "\n",
    "Let $J\\in\\mathbb{N}^*$ and $$h=\\frac{1}{J+1}$$ "
   ]
  },
  {
   "cell_type": "code",
   "execution_count": 4,
   "id": "20f4c086-9715-491b-ba80-7595c063233f",
   "metadata": {},
   "outputs": [],
   "source": [
    "J=5       # Number of nodes - ends excluded\n",
    "h=1/(J+1) # Discretizaton step"
   ]
  },
  {
   "cell_type": "markdown",
   "id": "2c10ef36-cd56-433d-acfe-93eaaf8fc0f3",
   "metadata": {},
   "source": [
    "Consider a subdivision $(x_j)_{j\\in\\{0,...,J+1\\}}$ of $[0,1]$ where $x_j=jh$.\n",
    "Let $P_1$ be the set of polynomials of degree lower than 1 and\n",
    "\n",
    "\n",
    "$$H_{0,h}=  \\{v \\in C^0([0,1])\\ |\\ \\forall j\\in\\{0,...,J\\},\\;v_{|[x_j,x_{j+1}]}\\in P_1\\ \\textrm{and}\\ v(0)=v(1)=0\\}$$\n",
    "\n",
    "We note $N_h=\\operatorname{dim} H_{0,h}$.\n",
    "We have $N_h=J$.\n",
    "\n",
    "Consider the basis $(\\phi_1,...,\\phi_{N_h})$ of $H_{0,h}$ composed of hat functions\n",
    "\n",
    "$$\\phi_j(x)=\\left\\{\\begin{array}{lll}\n",
    "    0 & \\textrm{if} & x\\in[0,(j-1)h[\\\\\n",
    "    \\frac{1}{h}x-j+1 & \\textrm{if} & x\\in [(j-1)h,jh]\\\\\n",
    "    -\\frac{1}{h}x+j+1 & \\textrm{if} & x\\in ]jh,(j+1)h]\\\\\n",
    "    0 & \\textrm{if} & x\\in](j-1)h,1]\n",
    "    \\end{array}\n",
    "    \\right.$$"
   ]
  },
  {
   "cell_type": "code",
   "execution_count": null,
   "id": "731037c6-6804-4289-9bb1-b9e9b845eb4b",
   "metadata": {},
   "outputs": [],
   "source": []
  }
 ],
 "metadata": {
  "kernelspec": {
   "display_name": "FEniCS Env",
   "language": "python",
   "name": "fenics-env"
  },
  "language_info": {
   "codemirror_mode": {
    "name": "ipython",
    "version": 3
   },
   "file_extension": ".py",
   "mimetype": "text/x-python",
   "name": "python",
   "nbconvert_exporter": "python",
   "pygments_lexer": "ipython3",
   "version": "3.9.18"
  }
 },
 "nbformat": 4,
 "nbformat_minor": 5
}
